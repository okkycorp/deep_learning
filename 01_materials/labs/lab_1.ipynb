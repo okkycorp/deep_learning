{
 "cells": [
  {
   "cell_type": "markdown",
   "metadata": {},
   "source": [
    "# Training Neural Networks with Keras\n",
    "\n",
    "Welcome to the first practical session of the course! In this session, we will learn how to train neural networks with Keras. We will start with a simple example of a feedforward neural network for classification and then we will study the impact of the initialization of the weights on the convergence of the training algorithm.\n",
    "\n",
    "Keras is a high-level neural network API, built on top of TensorFlow 2.0. It provides a user-friendly interface to build, train and deploy deep learning models. Keras is designed to be modular, fast and easy to use.\n",
    "\n",
    "Throughout this course, we will focus on using Keras and TensorFlow for building and training neural networks. However, there are other popular deep learning frameworks such as PyTorch, MXNet, CNTK, etc. that you can also use to build and train neural networks.\n",
    "\n",
    "In order to use our code on Google Colab, we will need to ensure that any required packages are installed. We will use the following packages in this session:\n",
    "\n",
    "- `tensorflow`: an open-source library for numerical computation and large-scale machine learning.\n",
    "- `matplotlib`: a plotting library for the Python programming language and its numerical mathematics extension NumPy.\n",
    "- `numpy`: a library for scientific computing in Python.\n",
    "- `scikit-learn`: a machine learning library for the Python programming language.\n",
    "- `pandas`: a library providing high-performance, easy-to-use data structures and data analysis tools for the Python programming language.\n",
    "\n",
    "The following cell will check if the packages are installed, and if not, it will install them. Students familiar with how pip works might note that it already checks this before installing! The reason for this code (which will also appear in subsequent notebooks) is to speed up execution if you re-run the entire notebook - it will skip the installation step if the packages are already installed."
   ]
  },
  {
   "cell_type": "markdown",
   "metadata": {
    "collapsed": false
   },
   "source": [
    "With the packages installed, we can now get started on the practical session!\n",
    "\n",
    "Today, we will be working with the famous MNIST dataset. MNIST (Modified National Institute of Standards and Technology) is a database of low resolution images of handwritten digits. The history here is interesting - the dataset was originally created in the 1980s, when researchers from the aforementioned institute collected samples from American Census Bureau employees and high school students. The dataset was then modified in the 1990s (hence the M in MNIST), and has since become a popular benchmark for machine learning algorithms. \n",
    "\n",
    "The dataset contains images, each of which is a 28x28 grayscale image of a handwritten digit. The goal is to classify each image into one of the 10 possible classes (0-9).\n",
    "\n",
    "![MNIST](https://upload.wikimedia.org/wikipedia/commons/2/27/MnistExamples.png)\n",
    "\n",
    "The Scikit-Learn library provides a convenient function to download and load the MNIST dataset. The following cell will download the dataset. Then we will take a look at the shape of the data."
   ]
  },
  {
   "cell_type": "code",
   "execution_count": 43,
   "metadata": {},
   "outputs": [],
   "source": [
    "import matplotlib.pyplot as plt\n",
    "import numpy as np\n",
    "\n",
    "from sklearn.datasets import load_digits\n",
    "\n",
    "digits = load_digits()"
   ]
  },
  {
   "cell_type": "code",
   "execution_count": 44,
   "metadata": {},
   "outputs": [
    {
     "data": {
      "text/plain": [
       "(1797, 8, 8)"
      ]
     },
     "execution_count": 44,
     "metadata": {},
     "output_type": "execute_result"
    }
   ],
   "source": [
    "digits.images.shape"
   ]
  },
  {
   "cell_type": "markdown",
   "metadata": {
    "collapsed": false
   },
   "source": [
    "This means that we have 1797 images, each of which is a 8x8 image. For basic image processing, we will need to flatten the images into a 1D array. In this case, Scikit-Learn has already provided the data in this format too:"
   ]
  },
  {
   "cell_type": "code",
   "execution_count": 45,
   "metadata": {},
   "outputs": [
    {
     "data": {
      "text/plain": [
       "(1797, 64)"
      ]
     },
     "execution_count": 45,
     "metadata": {},
     "output_type": "execute_result"
    }
   ],
   "source": [
    "digits.data.shape"
   ]
  },
  {
   "cell_type": "markdown",
   "metadata": {
    "collapsed": false
   },
   "source": [
    "For each image, we also have the corresponding label (or target, or class) in `digits.target`:"
   ]
  },
  {
   "cell_type": "code",
   "execution_count": 46,
   "metadata": {},
   "outputs": [
    {
     "data": {
      "text/plain": [
       "(1797,)"
      ]
     },
     "execution_count": 46,
     "metadata": {},
     "output_type": "execute_result"
    }
   ],
   "source": [
    "digits.target.shape"
   ]
  },
  {
   "cell_type": "markdown",
   "metadata": {
    "collapsed": false
   },
   "source": [
    "We can take a look at some random images from the dataset. The following cell will select 9 random images and plot them in a 3x3 grid (meaning that you can rerun the cell to see different images)."
   ]
  },
  {
   "cell_type": "code",
   "execution_count": 47,
   "metadata": {},
   "outputs": [
    {
     "data": {
      "image/png": "[encoded data removed]",
      "text/plain": [
       "<Figure size 600x600 with 9 Axes>"
      ]
     },
     "metadata": {},
     "output_type": "display_data"
    }
   ],
   "source": [
    "# Selecting 9 random indices\n",
    "random_indices = np.random.choice(len(digits.images), 9, replace=False)\n",
    "\n",
    "# Creating a 3x3 grid plot\n",
    "fig, axes = plt.subplots(3, 3, figsize=(6, 6))\n",
    "\n",
    "for i, ax in enumerate(axes.flat):\n",
    "    ax.imshow(digits.images[random_indices[i]], cmap=plt.cm.gray_r, interpolation='nearest')\n",
    "    ax.set_title(f\"Label: {digits.target[random_indices[i]]}\")\n",
    "\n",
    "    # Removing axis labels\n",
    "    ax.set_xticks([])\n",
    "    ax.set_yticks([])\n",
    "\n",
    "plt.show()"
   ]
  },
  {
   "cell_type": "markdown",
   "metadata": {
    "collapsed": false
   },
   "source": [
    "As you can see, these images are very low resolution. This is because they were originally scanned from paper forms, and then scaled down to 8x8 pixels. This is a common problem in machine learning - the quality of the data is often a limiting factor in the performance of the model. In this case, the low resolution of the images makes it difficult to distinguish between some digits, even for humans. For example, the following images are all labelled as 9, but they look very different:"
   ]
  },
  {
   "cell_type": "code",
   "execution_count": 48,
   "metadata": {
    "collapsed": false
   },
   "outputs": [
    {
     "data": {
      "image/png": "[encoded data removed]",
      "text/plain": [
       "<Figure size 600x600 with 9 Axes>"
      ]
     },
     "metadata": {},
     "output_type": "display_data"
    }
   ],
   "source": [
    "# Selecting 9 random indices of images labelled as 9\n",
    "random_indices = np.random.choice(np.where(digits.target == 9)[0], 9, replace=False)\n",
    "\n",
    "# Creating a 3x3 grid plot\n",
    "fig, axes = plt.subplots(3, 3, figsize=(6, 6))\n",
    "\n",
    "for i, ax in enumerate(axes.flat):\n",
    "    ax.imshow(digits.images[random_indices[i]], cmap=plt.cm.gray_r, interpolation='nearest')\n",
    "    ax.set_title(f\"Label: {digits.target[random_indices[i]]}\")\n",
    "\n",
    "    # Removing axis labels\n",
    "    ax.set_xticks([])\n",
    "    ax.set_yticks([])\n",
    "    \n",
    "plt.show()"
   ]
  },
  {
   "cell_type": "markdown",
   "metadata": {
    "collapsed": false
   },
   "source": [
    "While we are plotting the samples as images, remember that our model is only going to see a 1D array of numbers. "
   ]
  },
  {
   "cell_type": "markdown",
   "metadata": {},
   "source": [
    "## Train / Test Split\n",
    "\n",
    "In order to understand how well our model performs on _new_ data, we need to split our dataset into a training set and a test set. The training set will be used to train the model, and the test set will be used to evaluate the performance of the model.\n",
    "\n",
    "Let's keep some held-out data to be able to measure the generalization performance of our model. "
   ]
  },
  {
   "cell_type": "code",
   "execution_count": 49,
   "metadata": {},
   "outputs": [],
   "source": [
    "from sklearn.model_selection import train_test_split\n",
    "\n",
    "\n",
    "X_train, X_test, y_train, y_test = train_test_split(\n",
    "    digits.data, \n",
    "    digits.target,\n",
    "    test_size=0.2, # 20% of the data is used for testing\n",
    "    random_state=42 # Providing a value here means getting the same \"random\" split every time\n",
    ")"
   ]
  },
  {
   "cell_type": "markdown",
   "metadata": {
    "collapsed": false
   },
   "source": [
    "Let's confirm that the data has been split correctly:"
   ]
  },
  {
   "cell_type": "code",
   "execution_count": 50,
   "metadata": {
    "collapsed": false
   },
   "outputs": [
    {
     "name": "stdout",
     "output_type": "stream",
     "text": [
      "X_train shape: (1437, 64)\n",
      "y_train shape: (1437,)\n",
      "X_test shape: (360, 64)\n",
      "y_test shape: (360,)\n"
     ]
    }
   ],
   "source": [
    "print(f'X_train shape: {X_train.shape}')\n",
    "print(f'y_train shape: {y_train.shape}')\n",
    "print(f'X_test shape: {X_test.shape}')\n",
    "print(f'y_test shape: {y_test.shape}')"
   ]
  },
  {
   "cell_type": "markdown",
   "metadata": {
    "collapsed": false
   },
   "source": [
    "This is what we expected to see. It's always good to check as you go, to make sure that you haven't made a mistake somewhere - this is something that working in a notebook like this makes it easy to do."
   ]
  },
  {
   "cell_type": "markdown",
   "metadata": {},
   "source": [
    "## Preprocessing of the Target Data\n",
    "\n",
    "The labels that we have are integers between 0 and 9. However, we want to train a neural network to classify the images into one of 10 classes. It can be a little counter-intuitive because we are dealing with numbers, but our classes are not ordinal.\n",
    "\n",
    "What do we mean by that? Let's imagine we were trying to predict the height of a building (separated into classes) from images. If a given building was actually 10m tall, and our model predicted 9m, we would consider that to be a better prediction than if it predicted 1m. This is because the classes are ordinal - there is meaning in the difference between the classes.\n",
    "\n",
    "In our case, even though we are dealing with numbers, the classes are not ordinal. If a given image is actually a 9, and our model predicts 8, we would consider that to be just as bad as if it predicted 1. This is because the classes are not ordered, and the difference between the classes is not meaningful.\n",
    "\n",
    "Because of this, we need to convert our labels from an integer value into a one-hot encoded vector. This means that each label will be represented as a vector of length 10, with a 1 in the position corresponding to the class, and 0s everywhere else. For example, the label 9 would be represented as `[0, 0, 0, 0, 0, 0, 0, 0, 0, 1]`. This is a common way of representing categorical data in machine learning. By doing this, we ensure that our model is taught the correct relationship between the classes."
   ]
  },
  {
   "cell_type": "code",
   "execution_count": 51,
   "metadata": {},
   "outputs": [
    {
     "name": "stdout",
     "output_type": "stream",
     "text": [
      "Before one-hot encoding: 6\n",
      "After one-hot encoding: [0. 0. 0. 0. 0. 0. 1. 0. 0. 0.]\n"
     ]
    }
   ],
   "source": [
    "from tensorflow.keras.utils import to_categorical\n",
    "\n",
    "print(f'Before one-hot encoding: {y_train[0]}')\n",
    "y_train = to_categorical(y_train, num_classes=10)\n",
    "y_test = to_categorical(y_test, num_classes=10)\n",
    "print(f'After one-hot encoding: {y_train[0]}')"
   ]
  },
  {
   "cell_type": "markdown",
   "metadata": {},
   "source": [
    "## Feed Forward Neural Networks with Keras\n",
    "\n",
    "Now that we have prepared our data, it's time to build a simple neural network! In this section, we will use the Keras API to build a simple feed forward neural network. We will then train the model on the MNIST dataset, and evaluate its performance on the test set.\n",
    "\n",
    "In most modern deep learning frameworks, the process of building a model can be broken down into a few steps:\n",
    "\n",
    "- Define the model architecture: this is where we define the layers of the model, and how they are connected to each other.\n",
    "- Compile the model: this is where we define the loss function, the optimizer, and the metrics that we want to use to evaluate the model.\n",
    "- Train the model: this is where we train the model on the training data.\n",
    "\n",
    "Let's start with defining the model architecture. There are two ways to do this in Keras - the Sequential API and the Functional API. The Sequential API is the simplest way to build a model, and is suitable for most use cases. The Functional API is more flexible, and allows you to build more complex models. We will start with the Sequential API, and then we will look at the Functional API later in the course.\n",
    "\n",
    "Our simple neural network will be \"fully-connected\". This means that each neuron in a given layer is connected to every neuron in the next layer. This is also known as a \"dense\" layer. We will use the `Dense` class from Keras to define our layers."
   ]
  },
  {
   "cell_type": "code",
   "execution_count": 52,
   "metadata": {
    "collapsed": false
   },
   "outputs": [
    {
     "name": "stdout",
     "output_type": "stream",
     "text": [
      "Model: \"sequential_6\"\n",
      "_________________________________________________________________\n",
      " Layer (type)                Output Shape              Param #   \n",
      "=================================================================\n",
      " dense_19 (Dense)            (None, 64)                4160      \n",
      "                                                                 \n",
      " dense_20 (Dense)            (None, 64)                4160      \n",
      "                                                                 \n",
      " dense_21 (Dense)            (None, 10)                650       \n",
      "                                                                 \n",
      "=================================================================\n",
      "Total params: 8,970\n",
      "Trainable params: 8,970\n",
      "Non-trainable params: 0\n",
      "_________________________________________________________________\n"
     ]
    }
   ],
   "source": [
    "from tensorflow.keras.models import Sequential\n",
    "from tensorflow.keras.layers import Dense\n",
    "\n",
    "model = Sequential()\n",
    "\n",
    "# Input layer\n",
    "model.add(Dense(64, activation='relu', input_shape=(64,))) # 64 neurons, ReLU activation, input shape of 64\n",
    "\n",
    "# Hidden layer\n",
    "model.add(Dense(64, activation='relu')) # 64 neurons, ReLU activation\n",
    "\n",
    "# Output layer\n",
    "model.add(Dense(10, activation='softmax')) # 10 neurons, softmax activation\n",
    "\n",
    "model.summary()"
   ]
  },
  {
   "cell_type": "markdown",
   "metadata": {
    "collapsed": false
   },
   "source": [
    "Congratulations! You have just built your first neural network with Keras. As we can confirm from the `model.summary()` output, our model has 3 layers. The first layer has 64 neurons, the second layer has 64 neurons, and the output layer has 10 neurons. The output layer uses the softmax activation function, which is commonly used for multi-class classification problems. The other layers use the ReLU activation function, which is commonly used for hidden layers in neural networks.\n",
    "\n",
    "Next, we need to compile the model. This is where we define the loss function, the optimizer, and the metrics that we want to use to evaluate the model. We will use the `compile` method of the model to do this."
   ]
  },
  {
   "cell_type": "code",
   "execution_count": 53,
   "metadata": {
    "collapsed": false
   },
   "outputs": [],
   "source": [
    "model.compile(\n",
    "    loss='categorical_crossentropy', # Loss function\n",
    "    optimizer='sgd', # Optimizer\n",
    "    metrics=['accuracy'] # Metrics to evaluate the model\n",
    ")"
   ]
  },
  {
   "cell_type": "markdown",
   "metadata": {
    "collapsed": false
   },
   "source": [
    "Because we are predicting which class a sample belongs to, we will use the `categorical_crossentropy` function. This loss function is commonly used for multi-class classification problems. \n",
    "\n",
    "For our optimizer, we are using the standard stochastic gradient descent (SGD) algorithm. This is a simple optimizer that works well for many problems. We will look at more advanced optimizers later in the course.\n",
    "\n",
    "Finally, we are using the `accuracy` metric to evaluate the model. This is a common metric for classification problems, and it is simply the fraction of samples that are correctly classified. This is an easier metric for us to understand, but it's not quite as useful for actually training the model (for example, it doesn't tell us how \"confident\" the model is in its predictions).\n",
    "\n",
    "Now that we have (a) defined the model architecture and (b) compiled the model, we are ready to train the model. We will use the `fit` method of the model to do this."
   ]
  },
  {
   "cell_type": "code",
   "execution_count": 54,
   "metadata": {
    "collapsed": false
   },
   "outputs": [
    {
     "name": "stdout",
     "output_type": "stream",
     "text": [
      "Epoch 1/5\n",
      "36/36 [==============================] - 0s 5ms/step - loss: 1.8170 - accuracy: 0.5570 - val_loss: 0.9541 - val_accuracy: 0.6944\n",
      "Epoch 2/5\n",
      "36/36 [==============================] - 0s 2ms/step - loss: 0.5873 - accuracy: 0.8225 - val_loss: 0.5376 - val_accuracy: 0.8299\n",
      "Epoch 3/5\n",
      "36/36 [==============================] - 0s 2ms/step - loss: 0.4028 - accuracy: 0.8686 - val_loss: 0.3908 - val_accuracy: 0.8819\n",
      "Epoch 4/5\n",
      "36/36 [==============================] - 0s 1ms/step - loss: 0.2918 - accuracy: 0.9217 - val_loss: 0.3731 - val_accuracy: 0.8750\n",
      "Epoch 5/5\n",
      "36/36 [==============================] - 0s 1ms/step - loss: 0.2390 - accuracy: 0.9312 - val_loss: 0.2879 - val_accuracy: 0.9132\n"
     ]
    },
    {
     "data": {
      "text/plain": [
       "<keras.callbacks.History at 0x1e01ce0f730>"
      ]
     },
     "execution_count": 54,
     "metadata": {},
     "output_type": "execute_result"
    }
   ],
   "source": [
    "model.fit(\n",
    "    X_train, # Training data\n",
    "    y_train, # Training labels\n",
    "    epochs=5, # Number of epochs\n",
    "    batch_size=32, # Number of samples per batch\n",
    "    validation_split=0.2 # Use 20% of the data for validation\n",
    ")"
   ]
  },
  {
   "cell_type": "markdown",
   "metadata": {
    "collapsed": false
   },
   "source": [
    "We have now trained our model! We can see that the model has been trained for 5 epochs, and the loss and accuracy have been printed for each epoch. We can also see that the model has been evaluated on the validation data at the end of each epoch. This is useful for us to see how the model is performing on data that it hasn't seen during training.\n",
    "\n",
    "Once the model is trained, it's time to evaluate the model on the test set. We can use the `evaluate` method of the model to do this. If you were building a model for a real-world application, this is the very last thing you would do, and the result here would be the figure you'd report in your paper or presentation."
   ]
  },
  {
   "cell_type": "code",
   "execution_count": 55,
   "metadata": {
    "collapsed": false
   },
   "outputs": [
    {
     "name": "stdout",
     "output_type": "stream",
     "text": [
      "12/12 [==============================] - 0s 773us/step - loss: 0.2125 - accuracy: 0.9472\n",
      "Loss:     0.21\n",
      "Accuracy: 94.72%\n"
     ]
    }
   ],
   "source": [
    "loss, accuracy = model.evaluate(X_test, y_test)\n",
    "\n",
    "print(f'Loss:     {loss:.2f}')\n",
    "print(f'Accuracy: {accuracy*100:.2f}%')"
   ]
  },
  {
   "cell_type": "markdown",
   "metadata": {
    "collapsed": false
   },
   "source": [
    "Hopefully you have achieved an accuracy of around 95%. This is pretty good, but we can do better! In the next section, we will look at how we can improve the performance of our model by using a more advanced optimizer. But before we get there, let's do one other thing - let's look at the predictions that our model is making on the test set. When you are building a model, it's often useful to have a look at some of the examples your model is getting wrong. Sometimes this can reveal problems with the data, or it can give you ideas for how to improve your model."
   ]
  },
  {
   "cell_type": "code",
   "execution_count": 56,
   "metadata": {
    "collapsed": false
   },
   "outputs": [
    {
     "name": "stdout",
     "output_type": "stream",
     "text": [
      "12/12 [==============================] - 0s 637us/step\n"
     ]
    },
    {
     "data": {
      "image/png": "[encoded data removed]",
      "text/plain": [
       "<Figure size 600x600 with 9 Axes>"
      ]
     },
     "metadata": {},
     "output_type": "display_data"
    }
   ],
   "source": [
    "# Get the predictions for the test data\n",
    "predictions = model.predict(X_test)\n",
    "\n",
    "# Get the index of the largest probability (i.e. the predicted class)\n",
    "predicted_classes = np.argmax(predictions, axis=1)\n",
    "true_classes = np.argmax(y_test, axis=1)\n",
    "misclassified_indices = np.where(predicted_classes != true_classes)[0]\n",
    "\n",
    "# Get the misclassified samples themselves\n",
    "misclassified_samples = X_test[misclassified_indices]\n",
    "misclassified_labels = np.argmax(y_test[misclassified_indices], axis=1)\n",
    "\n",
    "# Pick 9 random misclassified samples\n",
    "random_indices = np.random.choice(len(misclassified_indices), 9, replace=False)\n",
    "\n",
    "fig, axes = plt.subplots(3, 3, figsize=(6, 6))\n",
    "for i, ax in enumerate(axes.flat):\n",
    "    ax.imshow(misclassified_samples[random_indices[i]].reshape(8, 8), cmap=plt.cm.gray_r, interpolation='nearest')\n",
    "    ax.set_title(f\"Pred: {predicted_classes[misclassified_indices[random_indices[i]]]}, Real: {misclassified_labels[random_indices[i]]}\")\n",
    "\n",
    "    # Removing axis labels\n",
    "    ax.set_xticks([])\n",
    "    ax.set_yticks([])\n",
    "    \n",
    "plt.show()"
   ]
  },
  {
   "cell_type": "markdown",
   "metadata": {
    "collapsed": false
   },
   "source": [
    "What do you think? Would you have made the same mistakes as the model? Determining whether the mistakes are \"understandable\" is a rough way of seeing if you could improve the model further, or if this is the best you can do with the data you have."
   ]
  },
  {
   "cell_type": "markdown",
   "metadata": {},
   "source": [
    "### b) Exercises: Impact of the Optimizer\n",
    "\n",
    "In this section, you will play around with the optimizer and see how it affects the performance of the model. We will start with the standard SGD optimizer, and then we will look at more advanced optimizers.\n",
    "\n",
    "1. Try decreasing the learning rate of the SGD optimizer by a factor of 10, or 100. What do you observe?\n",
    "2. Try increasing the learning rate of the SGD optimizer. What happens?\n",
    "3. The SGD optimizer has a momentum parameter. In a nutshell, this parameter controls how much the gradient from the previous step affects the current step. Try enabling momentum in the SGD optimizer with a value of 0.9. What happens?\n",
    "  \n",
    "**Notes**: \n",
    "\n",
    "The keras API documentation is available at:\n",
    "\n",
    "https://www.tensorflow.org/api_docs/python/tf/keras\n",
    "\n",
    "It is also possible to learn more about the parameters of a class by using the question mark: type and evaluate:\n",
    "\n",
    "```python\n",
    "optimizers.SGD?\n",
    "```\n",
    "\n",
    "in a jupyter notebook cell.\n",
    "\n",
    "It is also possible to type the beginning of a function call / constructor and type \"shift-tab\" after the opening paren:\n",
    "\n",
    "```python\n",
    "optimizers.SGD(<shift-tab>\n",
    "```"
   ]
  },
  {
   "cell_type": "code",
   "execution_count": 57,
   "metadata": {},
   "outputs": [
    {
     "name": "stdout",
     "output_type": "stream",
     "text": [
      "Epoch 1/15\n",
      "45/45 [==============================] - 0s 1ms/step - loss: 0.2059 - accuracy: 0.9402\n",
      "Epoch 2/15\n",
      "45/45 [==============================] - 0s 979us/step - loss: 0.1646 - accuracy: 0.9576\n",
      "Epoch 3/15\n",
      "45/45 [==============================] - 0s 819us/step - loss: 0.1448 - accuracy: 0.9624\n",
      "Epoch 4/15\n",
      "45/45 [==============================] - 0s 842us/step - loss: 0.1182 - accuracy: 0.9749\n",
      "Epoch 5/15\n",
      "45/45 [==============================] - 0s 876us/step - loss: 0.1046 - accuracy: 0.9729\n",
      "Epoch 6/15\n",
      "45/45 [==============================] - 0s 819us/step - loss: 0.0949 - accuracy: 0.9743\n",
      "Epoch 7/15\n",
      "45/45 [==============================] - 0s 808us/step - loss: 0.0801 - accuracy: 0.9798\n",
      "Epoch 8/15\n",
      "45/45 [==============================] - 0s 785us/step - loss: 0.0745 - accuracy: 0.9847\n",
      "Epoch 9/15\n",
      "45/45 [==============================] - 0s 831us/step - loss: 0.0669 - accuracy: 0.9868\n",
      "Epoch 10/15\n",
      "45/45 [==============================] - 0s 797us/step - loss: 0.0595 - accuracy: 0.9868\n",
      "Epoch 11/15\n",
      "45/45 [==============================] - 0s 888us/step - loss: 0.0523 - accuracy: 0.9868\n",
      "Epoch 12/15\n",
      "45/45 [==============================] - 0s 865us/step - loss: 0.0498 - accuracy: 0.9916\n",
      "Epoch 13/15\n",
      "45/45 [==============================] - 0s 831us/step - loss: 0.0467 - accuracy: 0.9889\n",
      "Epoch 14/15\n",
      "45/45 [==============================] - 0s 865us/step - loss: 0.0437 - accuracy: 0.9923\n",
      "Epoch 15/15\n",
      "45/45 [==============================] - 0s 705us/step - loss: 0.0399 - accuracy: 0.9944\n",
      "Epoch 1/15\n",
      "45/45 [==============================] - 0s 728us/step - loss: 0.0322 - accuracy: 0.9965\n",
      "Epoch 2/15\n",
      "45/45 [==============================] - 0s 717us/step - loss: 0.0318 - accuracy: 0.9965\n",
      "Epoch 3/15\n",
      "45/45 [==============================] - 0s 763us/step - loss: 0.0314 - accuracy: 0.9972\n",
      "Epoch 4/15\n",
      "45/45 [==============================] - 0s 808us/step - loss: 0.0310 - accuracy: 0.9972\n",
      "Epoch 5/15\n",
      "45/45 [==============================] - 0s 717us/step - loss: 0.0308 - accuracy: 0.9972\n",
      "Epoch 6/15\n",
      "45/45 [==============================] - 0s 763us/step - loss: 0.0305 - accuracy: 0.9972\n",
      "Epoch 7/15\n",
      "45/45 [==============================] - 0s 819us/step - loss: 0.0304 - accuracy: 0.9972\n",
      "Epoch 8/15\n",
      "45/45 [==============================] - 0s 731us/step - loss: 0.0303 - accuracy: 0.9972\n",
      "Epoch 9/15\n",
      "45/45 [==============================] - 0s 717us/step - loss: 0.0299 - accuracy: 0.9972\n",
      "Epoch 10/15\n",
      "45/45 [==============================] - 0s 717us/step - loss: 0.0298 - accuracy: 0.9979\n",
      "Epoch 11/15\n",
      "45/45 [==============================] - 0s 728us/step - loss: 0.0297 - accuracy: 0.9972\n",
      "Epoch 12/15\n",
      "45/45 [==============================] - 0s 748us/step - loss: 0.0293 - accuracy: 0.9972\n",
      "Epoch 13/15\n",
      "45/45 [==============================] - 0s 740us/step - loss: 0.0291 - accuracy: 0.9972\n",
      "Epoch 14/15\n",
      "45/45 [==============================] - 0s 706us/step - loss: 0.0290 - accuracy: 0.9972\n",
      "Epoch 15/15\n",
      "45/45 [==============================] - 0s 694us/step - loss: 0.0287 - accuracy: 0.9979\n"
     ]
    }
   ],
   "source": [
    "from tensorflow.keras import optimizers\n",
    "\n",
    "# Decrease the learning rate by a factor of 10\n",
    "model.compile(optimizer=optimizers.SGD(learning_rate=0.01), loss='categorical_crossentropy', metrics=['accuracy'])\n",
    "history = model.fit(X_train, y_train, epochs=15, batch_size=32)\n",
    "\n",
    "# Decrease the learning rate by a factor of 100\n",
    "model.compile(optimizer=optimizers.SGD(learning_rate=0.001), loss='categorical_crossentropy', metrics=['accuracy'])\n",
    "history = model.fit(X_train, y_train, epochs=15, batch_size=32)\n",
    "\n",
    "\n"
   ]
  },
  {
   "cell_type": "code",
   "execution_count": 58,
   "metadata": {},
   "outputs": [
    {
     "name": "stdout",
     "output_type": "stream",
     "text": [
      "Epoch 1/15\n",
      "45/45 [==============================] - 0s 876us/step - loss: 4215513287242022912.0000 - accuracy: 0.1301\n",
      "Epoch 2/15\n",
      "45/45 [==============================] - 0s 865us/step - loss: 2.3103 - accuracy: 0.0912\n",
      "Epoch 3/15\n",
      "45/45 [==============================] - 0s 819us/step - loss: 2.3128 - accuracy: 0.0974\n",
      "Epoch 4/15\n",
      "45/45 [==============================] - 0s 762us/step - loss: 2.3124 - accuracy: 0.0842\n",
      "Epoch 5/15\n",
      "45/45 [==============================] - 0s 774us/step - loss: 2.3079 - accuracy: 0.1051\n",
      "Epoch 6/15\n",
      "45/45 [==============================] - 0s 808us/step - loss: 2.3144 - accuracy: 0.0821\n",
      "Epoch 7/15\n",
      "45/45 [==============================] - 0s 978us/step - loss: 2.3111 - accuracy: 0.0981\n",
      "Epoch 8/15\n",
      "45/45 [==============================] - 0s 785us/step - loss: 2.3110 - accuracy: 0.1009\n",
      "Epoch 9/15\n",
      "45/45 [==============================] - 0s 751us/step - loss: 2.3094 - accuracy: 0.0946\n",
      "Epoch 10/15\n",
      "45/45 [==============================] - 0s 717us/step - loss: 2.3127 - accuracy: 0.0967\n",
      "Epoch 11/15\n",
      "45/45 [==============================] - 0s 904us/step - loss: 2.3122 - accuracy: 0.0877\n",
      "Epoch 12/15\n",
      "45/45 [==============================] - 0s 774us/step - loss: 2.3114 - accuracy: 0.1009\n",
      "Epoch 13/15\n",
      "45/45 [==============================] - 0s 739us/step - loss: 2.3103 - accuracy: 0.0953\n",
      "Epoch 14/15\n",
      "45/45 [==============================] - 0s 706us/step - loss: 2.3137 - accuracy: 0.0863\n",
      "Epoch 15/15\n",
      "45/45 [==============================] - 0s 717us/step - loss: 2.3109 - accuracy: 0.0939\n"
     ]
    }
   ],
   "source": [
    "# Increase the learning rate \n",
    "model.compile(optimizer=optimizers.SGD(learning_rate=1), loss='categorical_crossentropy', metrics=['accuracy'])\n",
    "history = model.fit(X_train, y_train, epochs=15, batch_size=32)"
   ]
  },
  {
   "cell_type": "code",
   "execution_count": 59,
   "metadata": {},
   "outputs": [
    {
     "name": "stdout",
     "output_type": "stream",
     "text": [
      "Epoch 1/15\n",
      "45/45 [==============================] - 1s 717us/step - loss: 2.3107 - accuracy: 0.0870\n",
      "Epoch 2/15\n",
      "45/45 [==============================] - 0s 717us/step - loss: 2.3096 - accuracy: 0.0974\n",
      "Epoch 3/15\n",
      "45/45 [==============================] - 0s 751us/step - loss: 2.3081 - accuracy: 0.1016\n",
      "Epoch 4/15\n",
      "45/45 [==============================] - 0s 897us/step - loss: 2.3103 - accuracy: 0.0946\n",
      "Epoch 5/15\n",
      "45/45 [==============================] - 0s 774us/step - loss: 2.3109 - accuracy: 0.1106\n",
      "Epoch 6/15\n",
      "45/45 [==============================] - 0s 774us/step - loss: 2.3118 - accuracy: 0.0926\n",
      "Epoch 7/15\n",
      "45/45 [==============================] - 0s 808us/step - loss: 2.3079 - accuracy: 0.0856\n",
      "Epoch 8/15\n",
      "45/45 [==============================] - 0s 842us/step - loss: 2.3111 - accuracy: 0.0821\n",
      "Epoch 9/15\n",
      "45/45 [==============================] - 0s 762us/step - loss: 2.3091 - accuracy: 0.0960\n",
      "Epoch 10/15\n",
      "45/45 [==============================] - 0s 749us/step - loss: 2.3066 - accuracy: 0.0891\n",
      "Epoch 11/15\n",
      "45/45 [==============================] - 0s 705us/step - loss: 2.3107 - accuracy: 0.0905\n",
      "Epoch 12/15\n",
      "45/45 [==============================] - 0s 728us/step - loss: 2.3116 - accuracy: 0.0988\n",
      "Epoch 13/15\n",
      "45/45 [==============================] - 0s 717us/step - loss: 2.3089 - accuracy: 0.1023\n",
      "Epoch 14/15\n",
      "45/45 [==============================] - 0s 1ms/step - loss: 2.3133 - accuracy: 0.0765\n",
      "Epoch 15/15\n",
      "45/45 [==============================] - 0s 717us/step - loss: 2.3116 - accuracy: 0.0967\n"
     ]
    }
   ],
   "source": [
    "# Enable momentum in the SGD optimizer\n",
    "model.compile(optimizer=optimizers.SGD(learning_rate=0.1, momentum=0.9), loss='categorical_crossentropy', metrics=['accuracy'])\n",
    "history = model.fit(X_train, y_train, epochs=15, batch_size=32)"
   ]
  },
  {
   "cell_type": "markdown",
   "metadata": {},
   "source": [
    "Next, let's try a more advanced optimizer. Adam is likely the most popular optimizer for deep learning. It is an adaptive learning rate optimizer, which means that it automatically adjusts the learning rate based on how the training is going. This can be very useful, as it means that we don't need to manually tune the learning rate. Let's see how it performs on our model.\n",
    "\n",
    "\n",
    "1. Replace the SGD optimizer by the Adam optimizer from keras and run it\n",
    "  with the default parameters.\n",
    "\n",
    "2. Add another hidden layer with ReLU activation and 64 neurons. Does it improve the model performance?\n"
   ]
  },
  {
   "cell_type": "code",
   "execution_count": 60,
   "metadata": {},
   "outputs": [
    {
     "name": "stdout",
     "output_type": "stream",
     "text": [
      "Epoch 1/15\n",
      "45/45 [==============================] - 0s 796us/step - loss: 2.3038 - accuracy: 0.1009\n",
      "Epoch 2/15\n",
      "45/45 [==============================] - 0s 1ms/step - loss: 2.3035 - accuracy: 0.1009\n",
      "Epoch 3/15\n",
      "45/45 [==============================] - 0s 887us/step - loss: 2.3033 - accuracy: 0.1009\n",
      "Epoch 4/15\n",
      "45/45 [==============================] - 0s 808us/step - loss: 2.3031 - accuracy: 0.1009\n",
      "Epoch 5/15\n",
      "45/45 [==============================] - 0s 1ms/step - loss: 2.3029 - accuracy: 0.1009\n",
      "Epoch 6/15\n",
      "45/45 [==============================] - 0s 910us/step - loss: 2.3029 - accuracy: 0.1009\n",
      "Epoch 7/15\n",
      "45/45 [==============================] - 0s 820us/step - loss: 2.3027 - accuracy: 0.1009\n",
      "Epoch 8/15\n",
      "45/45 [==============================] - 0s 774us/step - loss: 2.3026 - accuracy: 0.1009\n",
      "Epoch 9/15\n",
      "45/45 [==============================] - 0s 796us/step - loss: 2.3025 - accuracy: 0.1009\n",
      "Epoch 10/15\n",
      "45/45 [==============================] - 0s 785us/step - loss: 2.3024 - accuracy: 0.1009\n",
      "Epoch 11/15\n",
      "45/45 [==============================] - 0s 842us/step - loss: 2.3023 - accuracy: 0.1009\n",
      "Epoch 12/15\n",
      "45/45 [==============================] - 0s 831us/step - loss: 2.3022 - accuracy: 0.1009\n",
      "Epoch 13/15\n",
      "45/45 [==============================] - 0s 796us/step - loss: 2.3022 - accuracy: 0.0981\n",
      "Epoch 14/15\n",
      "45/45 [==============================] - 0s 785us/step - loss: 2.3022 - accuracy: 0.1037\n",
      "Epoch 15/15\n",
      "45/45 [==============================] - 0s 785us/step - loss: 2.3022 - accuracy: 0.1016\n"
     ]
    }
   ],
   "source": [
    "# Replace the SGD optimizer by the Adam optimizer\n",
    "model.compile(optimizer='adam', loss='categorical_crossentropy', metrics=['accuracy'])\n",
    "history = model.fit(X_train, y_train, epochs=15, batch_size=32)"
   ]
  },
  {
   "cell_type": "code",
   "execution_count": 61,
   "metadata": {},
   "outputs": [
    {
     "name": "stdout",
     "output_type": "stream",
     "text": [
      "Epoch 1/15\n",
      "45/45 [==============================] - 0s 1ms/step - loss: 1.2604 - accuracy: 0.6068\n",
      "Epoch 2/15\n",
      "45/45 [==============================] - 0s 979us/step - loss: 0.3127 - accuracy: 0.8998\n",
      "Epoch 3/15\n",
      "45/45 [==============================] - 0s 956us/step - loss: 0.1801 - accuracy: 0.9499\n",
      "Epoch 4/15\n",
      "45/45 [==============================] - 0s 956us/step - loss: 0.1237 - accuracy: 0.9694\n",
      "Epoch 5/15\n",
      "45/45 [==============================] - 0s 1ms/step - loss: 0.0980 - accuracy: 0.9763\n",
      "Epoch 6/15\n",
      "45/45 [==============================] - 0s 967us/step - loss: 0.0716 - accuracy: 0.9812\n",
      "Epoch 7/15\n",
      "45/45 [==============================] - 0s 876us/step - loss: 0.0514 - accuracy: 0.9882\n",
      "Epoch 8/15\n",
      "45/45 [==============================] - 0s 896us/step - loss: 0.0418 - accuracy: 0.9903\n",
      "Epoch 9/15\n",
      "45/45 [==============================] - 0s 910us/step - loss: 0.0384 - accuracy: 0.9903\n",
      "Epoch 10/15\n",
      "45/45 [==============================] - 0s 888us/step - loss: 0.0267 - accuracy: 0.9937\n",
      "Epoch 11/15\n",
      "45/45 [==============================] - 0s 945us/step - loss: 0.0203 - accuracy: 0.9972\n",
      "Epoch 12/15\n",
      "45/45 [==============================] - 0s 978us/step - loss: 0.0199 - accuracy: 0.9958\n",
      "Epoch 13/15\n",
      "45/45 [==============================] - 0s 873us/step - loss: 0.0164 - accuracy: 0.9979\n",
      "Epoch 14/15\n",
      "45/45 [==============================] - 0s 842us/step - loss: 0.0259 - accuracy: 0.9923\n",
      "Epoch 15/15\n",
      "45/45 [==============================] - 0s 831us/step - loss: 0.0116 - accuracy: 0.9993\n"
     ]
    }
   ],
   "source": [
    "# add another hidden layer with ReLu activation and 64 neurons\n",
    "model = Sequential()\n",
    "model.add(Dense(64, input_dim=64, activation=\"relu\"))\n",
    "model.add(Dense(64, activation=\"relu\"))\n",
    "model.add(Dense(64, activation=\"relu\"))\n",
    "model.add(Dense(10, activation=\"softmax\"))\n",
    "\n",
    "model.compile(optimizer='adam', loss='categorical_crossentropy', metrics=['accuracy'])\n",
    "history = model.fit(X_train, y_train, epochs=15, batch_size=32)\n"
   ]
  },
  {
   "cell_type": "markdown",
   "metadata": {},
   "source": [
    "### Exercises: Forward Pass and Generalization\n",
    "\n",
    "Let's look in more detail at how the model makes predictions on the test set. We will walk through each step of making predictions, examining exactly what's going on.\n",
    "\n",
    "To start, we will apply our model to the test set, and look at what we get as output:"
   ]
  },
  {
   "cell_type": "code",
   "execution_count": 62,
   "metadata": {},
   "outputs": [
    {
     "data": {
      "text/plain": [
       "<tf.Tensor: shape=(5, 10), dtype=float32, numpy=\n",
       "array([[1.2397641e-05, 8.6648038e-07, 1.5923484e-07, 3.3902278e-08,\n",
       "        3.0124300e-05, 1.3476640e-06, 9.9988526e-01, 8.3129930e-09,\n",
       "        5.9134440e-05, 1.0613835e-05],\n",
       "       [4.7215167e-08, 2.8756824e-08, 8.1588745e-08, 1.7850489e-05,\n",
       "        1.9400459e-06, 7.4444636e-04, 1.1518069e-10, 5.3385488e-06,\n",
       "        5.5951245e-06, 9.9922460e-01],\n",
       "       [2.7987546e-13, 1.2730638e-09, 5.2254457e-08, 9.9999875e-01,\n",
       "        1.6803782e-11, 2.1958309e-08, 1.0250477e-11, 5.4845739e-11,\n",
       "        3.1096553e-07, 8.3066612e-07],\n",
       "       [1.5247018e-04, 5.1767402e-06, 1.2712804e-06, 9.1746665e-04,\n",
       "        3.2575120e-04, 3.0687400e-03, 7.7036759e-08, 9.8001808e-01,\n",
       "        5.7012374e-05, 1.5453928e-02],\n",
       "       [3.7921501e-09, 5.9857364e-08, 9.9846810e-01, 1.3632539e-03,\n",
       "        2.0926287e-11, 4.0975086e-09, 1.0261171e-08, 3.2935459e-09,\n",
       "        1.6649714e-04, 2.0158166e-06]], dtype=float32)>"
      ]
     },
     "execution_count": 62,
     "metadata": {},
     "output_type": "execute_result"
    }
   ],
   "source": [
    "predictions_tf = model(X_test)\n",
    "predictions_tf[:5]"
   ]
  },
  {
   "cell_type": "code",
   "execution_count": 63,
   "metadata": {},
   "outputs": [
    {
     "data": {
      "text/plain": [
       "(tensorflow.python.framework.ops.EagerTensor, TensorShape([360, 10]))"
      ]
     },
     "execution_count": 63,
     "metadata": {},
     "output_type": "execute_result"
    }
   ],
   "source": [
    "type(predictions_tf), predictions_tf.shape"
   ]
  },
  {
   "cell_type": "markdown",
   "metadata": {},
   "source": [
    "The raw output of the model is a tensor of shape `(360, 10)`. This means that we have 360 samples, and for each sample we have 10 values. Each of these values represents the probability that the sample belongs to a given class. This means that we have 10 probabilities for each sample, and the sum of these probabilities is 1. We can confirm this by summing the probabilities for each sample:"
   ]
  },
  {
   "cell_type": "code",
   "execution_count": 64,
   "metadata": {},
   "outputs": [
    {
     "data": {
      "text/plain": [
       "<tf.Tensor: shape=(5,), dtype=float32, numpy=\n",
       "array([0.99999994, 0.99999994, 0.99999994, 1.        , 0.99999994],\n",
       "      dtype=float32)>"
      ]
     },
     "execution_count": 64,
     "metadata": {},
     "output_type": "execute_result"
    }
   ],
   "source": [
    "import tensorflow as tf\n",
    "\n",
    "tf.reduce_sum(predictions_tf, axis=1)[:5]"
   ]
  },
  {
   "cell_type": "markdown",
   "metadata": {
    "collapsed": false
   },
   "source": [
    "...okay, there might be a small rounding error here and there. This is to do with how floating point numbers are represented in computers, and it's not something we need to worry about for now."
   ]
  },
  {
   "cell_type": "markdown",
   "metadata": {},
   "source": [
    "We can also extract the label with the highest probability using the tensorflow API:"
   ]
  },
  {
   "cell_type": "code",
   "execution_count": 65,
   "metadata": {},
   "outputs": [
    {
     "data": {
      "text/plain": [
       "<tf.Tensor: shape=(5,), dtype=int64, numpy=array([6, 9, 3, 7, 2], dtype=int64)>"
      ]
     },
     "execution_count": 65,
     "metadata": {},
     "output_type": "execute_result"
    }
   ],
   "source": [
    "predicted_labels_tf = tf.argmax(predictions_tf, axis=1)\n",
    "predicted_labels_tf[:5]"
   ]
  },
  {
   "cell_type": "markdown",
   "metadata": {
    "collapsed": false
   },
   "source": [
    "One helpful aspect of this approach is that we don't just get the prediction, but also a sense of how confident the model is in its prediction. To see this in practice, let's take a look at some of the predictions the model is highly confident about (i.e. a lot of the probability mass is on one class):"
   ]
  },
  {
   "cell_type": "code",
   "execution_count": 66,
   "metadata": {
    "collapsed": false
   },
   "outputs": [
    {
     "data": {
      "image/png": "[encoded data removed]",
      "text/plain": [
       "<Figure size 600x600 with 9 Axes>"
      ]
     },
     "metadata": {},
     "output_type": "display_data"
    }
   ],
   "source": [
    "# Get the values corresponding to the predicted labels for each sample\n",
    "predicted_values_tf = tf.reduce_max(predictions_tf, axis=1)\n",
    "\n",
    "# Get the indices of the samples with the highest predicted values\n",
    "most_confident_indices_tf = tf.argsort(predicted_values_tf, direction='DESCENDING').numpy()[:9]\n",
    "\n",
    "# Get the 9 most confident samples\n",
    "most_confident_samples_tf = X_test[most_confident_indices_tf]\n",
    "\n",
    "# Get the true labels for the 9 most confident samples\n",
    "most_confident_labels_tf = np.argmax(y_test[most_confident_indices_tf], axis=1)\n",
    "\n",
    "# Plot the 9 most confident samples\n",
    "fig, axes = plt.subplots(3, 3, figsize=(6, 6))\n",
    "\n",
    "for i, ax in enumerate(axes.flat):\n",
    "    ax.imshow(most_confident_samples_tf[i].reshape(8, 8), cmap=plt.cm.gray_r, interpolation='nearest')\n",
    "    ax.set_title(f\"{most_confident_labels_tf[i]}\")\n",
    "\n",
    "    # Removing axis labels\n",
    "    ax.set_xticks([])\n",
    "    ax.set_yticks([])\n",
    "    \n",
    "plt.show()"
   ]
  },
  {
   "cell_type": "markdown",
   "metadata": {},
   "source": [
    "## Impact of Initialization\n",
    "\n",
    "Let's study the impact of a bad initialization when training\n",
    "a deep feed forward network.\n",
    "\n",
    "By default, Keras dense layers use the \"Glorot Uniform\" initialization\n",
    "strategy to initialize the weight matrices:\n",
    "\n",
    "- each weight coefficient is randomly sampled from [-scale, scale]\n",
    "- scale is proportional to $\\frac{1}{\\sqrt{n_{in} + n_{out}}}$\n",
    "\n",
    "This strategy is known to work well to initialize deep neural networks\n",
    "with \"tanh\" or \"relu\" activation functions and then trained with\n",
    "standard SGD.\n",
    "\n",
    "To assess the impact of initialization let us plug an alternative init\n",
    "scheme into a 2 hidden layers networks with \"tanh\" activations.\n",
    "For the sake of the example let's use normal distributed weights\n",
    "with a manually adjustable scale (standard deviation) and see the\n",
    "impact the scale value:"
   ]
  },
  {
   "cell_type": "code",
   "execution_count": 67,
   "metadata": {},
   "outputs": [],
   "source": [
    "from tensorflow.keras import initializers\n",
    "from tensorflow.keras import optimizers\n",
    "\n",
    "input_dim = 64\n",
    "hidden_dim = 64\n",
    "output_dim = 10\n",
    "\n",
    "normal_init = initializers.TruncatedNormal(stddev=0.01, seed=42)\n",
    "\n",
    "model = Sequential()\n",
    "model.add(Dense(hidden_dim, input_dim=input_dim, activation=\"tanh\",\n",
    "                kernel_initializer=normal_init))\n",
    "model.add(Dense(hidden_dim, activation=\"tanh\",\n",
    "                kernel_initializer=normal_init))\n",
    "model.add(Dense(output_dim, activation=\"softmax\",\n",
    "                kernel_initializer=normal_init))\n",
    "\n",
    "model.compile(optimizer=optimizers.SGD(learning_rate=0.1),\n",
    "              loss='categorical_crossentropy', metrics=['accuracy'])"
   ]
  },
  {
   "cell_type": "code",
   "execution_count": 68,
   "metadata": {},
   "outputs": [
    {
     "data": {
      "text/plain": [
       "[<keras.layers.core.dense.Dense at 0x1e023fc31f0>,\n",
       " <keras.layers.core.dense.Dense at 0x1e02292ff70>,\n",
       " <keras.layers.core.dense.Dense at 0x1e02293a160>]"
      ]
     },
     "execution_count": 68,
     "metadata": {},
     "output_type": "execute_result"
    }
   ],
   "source": [
    "model.layers"
   ]
  },
  {
   "cell_type": "markdown",
   "metadata": {},
   "source": [
    "Let's have a look at the parameters of the first layer after initialization but before any training has happened:"
   ]
  },
  {
   "cell_type": "code",
   "execution_count": 69,
   "metadata": {},
   "outputs": [
    {
     "data": {
      "text/plain": [
       "[<tf.Variable 'dense_26/kernel:0' shape=(64, 64) dtype=float32, numpy=\n",
       " array([[ 0.00015817, -0.01590087,  0.00103594, ...,  0.00962818,\n",
       "          0.00624957,  0.00994726],\n",
       "        [ 0.0081879 ,  0.00756818, -0.00668142, ...,  0.01084459,\n",
       "         -0.00317478, -0.00549116],\n",
       "        [-0.00086618, -0.00287623,  0.00391693, ...,  0.00064558,\n",
       "         -0.00420471,  0.00174566],\n",
       "        ...,\n",
       "        [-0.0029006 , -0.0091218 ,  0.00804327, ..., -0.01407086,\n",
       "          0.00952832, -0.01348555],\n",
       "        [ 0.00375078,  0.00967842,  0.00098119, ..., -0.00413454,\n",
       "          0.01695471,  0.00025196],\n",
       "        [ 0.00459809,  0.01223094, -0.00213172, ...,  0.01246831,\n",
       "         -0.00714749, -0.00868595]], dtype=float32)>,\n",
       " <tf.Variable 'dense_26/bias:0' shape=(64,) dtype=float32, numpy=\n",
       " array([0., 0., 0., 0., 0., 0., 0., 0., 0., 0., 0., 0., 0., 0., 0., 0., 0.,\n",
       "        0., 0., 0., 0., 0., 0., 0., 0., 0., 0., 0., 0., 0., 0., 0., 0., 0.,\n",
       "        0., 0., 0., 0., 0., 0., 0., 0., 0., 0., 0., 0., 0., 0., 0., 0., 0.,\n",
       "        0., 0., 0., 0., 0., 0., 0., 0., 0., 0., 0., 0., 0.], dtype=float32)>]"
      ]
     },
     "execution_count": 69,
     "metadata": {},
     "output_type": "execute_result"
    }
   ],
   "source": [
    "model.layers[0].weights"
   ]
  },
  {
   "cell_type": "code",
   "execution_count": 70,
   "metadata": {},
   "outputs": [
    {
     "data": {
      "text/plain": [
       "array([[ 0.00015817, -0.01590087,  0.00103594, ...,  0.00962818,\n",
       "         0.00624957,  0.00994726],\n",
       "       [ 0.0081879 ,  0.00756818, -0.00668142, ...,  0.01084459,\n",
       "        -0.00317478, -0.00549116],\n",
       "       [-0.00086618, -0.00287623,  0.00391693, ...,  0.00064558,\n",
       "        -0.00420471,  0.00174566],\n",
       "       ...,\n",
       "       [-0.0029006 , -0.0091218 ,  0.00804327, ..., -0.01407086,\n",
       "         0.00952832, -0.01348555],\n",
       "       [ 0.00375078,  0.00967842,  0.00098119, ..., -0.00413454,\n",
       "         0.01695471,  0.00025196],\n",
       "       [ 0.00459809,  0.01223094, -0.00213172, ...,  0.01246831,\n",
       "        -0.00714749, -0.00868595]], dtype=float32)"
      ]
     },
     "execution_count": 70,
     "metadata": {},
     "output_type": "execute_result"
    }
   ],
   "source": [
    "w = model.layers[0].weights[0].numpy()\n",
    "w"
   ]
  },
  {
   "cell_type": "code",
   "execution_count": 71,
   "metadata": {},
   "outputs": [
    {
     "data": {
      "text/plain": [
       "0.008835949"
      ]
     },
     "execution_count": 71,
     "metadata": {},
     "output_type": "execute_result"
    }
   ],
   "source": [
    "w.std()"
   ]
  },
  {
   "cell_type": "code",
   "execution_count": 72,
   "metadata": {},
   "outputs": [
    {
     "data": {
      "text/plain": [
       "array([0., 0., 0., 0., 0., 0., 0., 0., 0., 0., 0., 0., 0., 0., 0., 0., 0.,\n",
       "       0., 0., 0., 0., 0., 0., 0., 0., 0., 0., 0., 0., 0., 0., 0., 0., 0.,\n",
       "       0., 0., 0., 0., 0., 0., 0., 0., 0., 0., 0., 0., 0., 0., 0., 0., 0.,\n",
       "       0., 0., 0., 0., 0., 0., 0., 0., 0., 0., 0., 0., 0.], dtype=float32)"
      ]
     },
     "execution_count": 72,
     "metadata": {},
     "output_type": "execute_result"
    }
   ],
   "source": [
    "b = model.layers[0].weights[1].numpy()\n",
    "b"
   ]
  },
  {
   "cell_type": "code",
   "execution_count": 73,
   "metadata": {},
   "outputs": [
    {
     "name": "stdout",
     "output_type": "stream",
     "text": [
      "Epoch 1/15\n",
      "45/45 [==============================] - 0s 694us/step - loss: 2.2856 - accuracy: 0.2672\n",
      "Epoch 2/15\n",
      "45/45 [==============================] - 0s 728us/step - loss: 1.7042 - accuracy: 0.4795\n",
      "Epoch 3/15\n",
      "45/45 [==============================] - 0s 751us/step - loss: 1.0022 - accuracy: 0.7244\n",
      "Epoch 4/15\n",
      "45/45 [==============================] - 0s 694us/step - loss: 0.5378 - accuracy: 0.8587\n",
      "Epoch 5/15\n",
      "45/45 [==============================] - 0s 739us/step - loss: 0.3391 - accuracy: 0.9158\n",
      "Epoch 6/15\n",
      "45/45 [==============================] - 0s 706us/step - loss: 0.2434 - accuracy: 0.9360\n",
      "Epoch 7/15\n",
      "45/45 [==============================] - 0s 717us/step - loss: 0.1572 - accuracy: 0.9603\n",
      "Epoch 8/15\n",
      "45/45 [==============================] - 0s 786us/step - loss: 0.1382 - accuracy: 0.9638\n",
      "Epoch 9/15\n",
      "45/45 [==============================] - 0s 740us/step - loss: 0.1469 - accuracy: 0.9569\n",
      "Epoch 10/15\n",
      "45/45 [==============================] - 0s 728us/step - loss: 0.0961 - accuracy: 0.9743\n",
      "Epoch 11/15\n",
      "45/45 [==============================] - 0s 785us/step - loss: 0.1015 - accuracy: 0.9749\n",
      "Epoch 12/15\n",
      "45/45 [==============================] - 0s 706us/step - loss: 0.0743 - accuracy: 0.9840\n",
      "Epoch 13/15\n",
      "45/45 [==============================] - 0s 789us/step - loss: 0.0493 - accuracy: 0.9930\n",
      "Epoch 14/15\n",
      "45/45 [==============================] - 0s 717us/step - loss: 0.0526 - accuracy: 0.9903\n",
      "Epoch 15/15\n",
      "45/45 [==============================] - 0s 717us/step - loss: 0.0365 - accuracy: 0.9958\n"
     ]
    },
    {
     "data": {
      "image/png": "[encoded data removed]",
      "text/plain": [
       "<Figure size 1200x400 with 1 Axes>"
      ]
     },
     "metadata": {},
     "output_type": "display_data"
    }
   ],
   "source": [
    "history = model.fit(X_train, y_train, epochs=15, batch_size=32)\n",
    "\n",
    "plt.figure(figsize=(12, 4))\n",
    "plt.plot(history.history['loss'], label=\"Truncated Normal init\")\n",
    "plt.legend();"
   ]
  },
  {
   "cell_type": "markdown",
   "metadata": {},
   "source": [
    "Once the model has been fit, the weights have been updated and notably the biases are no longer 0:"
   ]
  },
  {
   "cell_type": "code",
   "execution_count": 74,
   "metadata": {},
   "outputs": [
    {
     "data": {
      "text/plain": [
       "[<tf.Variable 'dense_26/kernel:0' shape=(64, 64) dtype=float32, numpy=\n",
       " array([[ 1.58170762e-04, -1.59008689e-02,  1.03594456e-03, ...,\n",
       "          9.62818228e-03,  6.24957308e-03,  9.94726177e-03],\n",
       "        [ 1.44505491e-02, -2.21897885e-02, -5.89535665e-03, ...,\n",
       "         -5.69765083e-03, -2.45299898e-02, -3.85571048e-02],\n",
       "        [ 5.60421310e-02, -7.84234926e-02, -4.49100547e-02, ...,\n",
       "         -3.71398441e-02, -1.52176842e-01,  5.72292581e-02],\n",
       "        ...,\n",
       "        [ 5.68612479e-03,  3.89803350e-02,  1.39184713e-01, ...,\n",
       "         -1.05732225e-01,  2.84519028e-02, -2.11264789e-01],\n",
       "        [ 1.83977988e-02,  1.49976257e-02,  1.11259036e-01, ...,\n",
       "         -6.00446090e-02, -5.55823930e-03, -1.23862922e-01],\n",
       "        [ 2.94339713e-02, -4.87854239e-03,  6.68518990e-02, ...,\n",
       "          5.85471652e-02,  4.21126410e-02, -5.24837188e-02]], dtype=float32)>,\n",
       " <tf.Variable 'dense_26/bias:0' shape=(64,) dtype=float32, numpy=\n",
       " array([ 1.3015770e-04, -7.9905207e-04,  3.0526686e-03, -3.1150491e-03,\n",
       "        -4.4523771e-03, -3.8024473e-03, -1.2150219e-03, -9.7648276e-04,\n",
       "         8.8806637e-04, -1.3281680e-03,  4.9028755e-04,  3.0097219e-03,\n",
       "         1.3582545e-03, -8.0373231e-04, -3.1145704e-03, -3.1798661e-03,\n",
       "         4.2449315e-03,  1.3304924e-03, -2.1023164e-03, -1.5297554e-03,\n",
       "         6.0971663e-04,  1.5166062e-03,  3.8472288e-03,  1.9767827e-04,\n",
       "         4.8402725e-03,  1.7169691e-03, -8.3130528e-04,  1.2458833e-03,\n",
       "         6.2409637e-04,  1.2389288e-03,  2.4328385e-03,  3.1174195e-04,\n",
       "         9.1817701e-04,  1.8676760e-03,  3.1800752e-03, -1.5180312e-03,\n",
       "        -1.6475312e-03, -3.1433480e-03, -3.4746192e-03,  1.7779317e-03,\n",
       "        -1.2263343e-03,  3.0781172e-05,  1.6239370e-03,  6.7784300e-04,\n",
       "         1.5325919e-03,  1.0309862e-03,  1.9361720e-03,  1.6673232e-03,\n",
       "         9.8289852e-04,  2.0985191e-03,  4.4891578e-03, -3.6987264e-03,\n",
       "        -4.3691611e-03, -5.8230775e-04, -4.2369561e-03, -2.9640193e-03,\n",
       "         1.2892858e-03,  5.1442273e-03,  2.1155605e-03, -2.0087790e-03,\n",
       "        -3.3330469e-04,  5.2049424e-04, -2.1563731e-03,  8.7704515e-04],\n",
       "       dtype=float32)>]"
      ]
     },
     "execution_count": 74,
     "metadata": {},
     "output_type": "execute_result"
    }
   ],
   "source": [
    "model.layers[0].weights"
   ]
  },
  {
   "cell_type": "markdown",
   "metadata": {},
   "source": [
    "#### Questions:\n",
    "\n",
    "- Try the following initialization schemes and see whether\n",
    "  the SGD algorithm can successfully train the network or\n",
    "  not:\n",
    "  \n",
    "  - a very small e.g. `stddev=1e-3`\n",
    "  - a larger scale e.g. `stddev=1` or `10`\n",
    "  - initialize all weights to 0 (constant initialization)\n",
    "  \n",
    "- What do you observe? Can you find an explanation for those\n",
    "  outcomes?\n",
    "\n",
    "- Are more advanced solvers such as SGD with momentum or Adam able\n",
    "  to deal better with such bad initializations?"
   ]
  },
  {
   "cell_type": "code",
   "execution_count": 75,
   "metadata": {},
   "outputs": [
    {
     "name": "stdout",
     "output_type": "stream",
     "text": [
      "\n",
      "Training model with stddev = 0.001\n",
      "Epoch 1/15\n",
      "45/45 [==============================] - 0s 717us/step - loss: 2.3036 - accuracy: 0.0905\n",
      "Epoch 2/15\n",
      "45/45 [==============================] - 0s 740us/step - loss: 2.3034 - accuracy: 0.0981\n",
      "Epoch 3/15\n",
      "45/45 [==============================] - 0s 740us/step - loss: 2.3032 - accuracy: 0.1037\n",
      "Epoch 4/15\n",
      "45/45 [==============================] - 0s 774us/step - loss: 2.3033 - accuracy: 0.1044\n",
      "Epoch 5/15\n",
      "45/45 [==============================] - 0s 888us/step - loss: 2.3031 - accuracy: 0.0988\n",
      "Epoch 6/15\n",
      "45/45 [==============================] - 0s 863us/step - loss: 2.3031 - accuracy: 0.1072\n",
      "Epoch 7/15\n",
      "45/45 [==============================] - 0s 842us/step - loss: 2.3030 - accuracy: 0.1079\n",
      "Epoch 8/15\n",
      "45/45 [==============================] - 0s 774us/step - loss: 2.3030 - accuracy: 0.1037\n",
      "Epoch 9/15\n",
      "45/45 [==============================] - 0s 762us/step - loss: 2.3017 - accuracy: 0.1072\n",
      "Epoch 10/15\n",
      "45/45 [==============================] - 0s 785us/step - loss: 2.1091 - accuracy: 0.1886\n",
      "Epoch 11/15\n",
      "45/45 [==============================] - 0s 751us/step - loss: 1.8279 - accuracy: 0.2116\n",
      "Epoch 12/15\n",
      "45/45 [==============================] - 0s 728us/step - loss: 1.6447 - accuracy: 0.2916\n",
      "Epoch 13/15\n",
      "45/45 [==============================] - 0s 820us/step - loss: 1.5559 - accuracy: 0.3354\n",
      "Epoch 14/15\n",
      "45/45 [==============================] - 0s 809us/step - loss: 1.2627 - accuracy: 0.5038\n",
      "Epoch 15/15\n",
      "45/45 [==============================] - 0s 774us/step - loss: 0.9579 - accuracy: 0.6228\n",
      "\n",
      "Training model with stddev = 1\n",
      "Epoch 1/15\n",
      "45/45 [==============================] - 0s 708us/step - loss: 3.9944 - accuracy: 0.2784\n",
      "Epoch 2/15\n",
      "45/45 [==============================] - 0s 865us/step - loss: 1.8039 - accuracy: 0.5073\n",
      "Epoch 3/15\n",
      "45/45 [==============================] - 0s 878us/step - loss: 1.3370 - accuracy: 0.6221\n",
      "Epoch 4/15\n",
      "45/45 [==============================] - 0s 707us/step - loss: 1.2553 - accuracy: 0.6305\n",
      "Epoch 5/15\n",
      "45/45 [==============================] - 0s 717us/step - loss: 1.1159 - accuracy: 0.6639\n",
      "Epoch 6/15\n",
      "45/45 [==============================] - 0s 717us/step - loss: 0.9075 - accuracy: 0.7300\n",
      "Epoch 7/15\n",
      "45/45 [==============================] - 0s 706us/step - loss: 0.7462 - accuracy: 0.7704\n",
      "Epoch 8/15\n",
      "45/45 [==============================] - 0s 739us/step - loss: 0.6729 - accuracy: 0.7801\n",
      "Epoch 9/15\n",
      "45/45 [==============================] - 0s 694us/step - loss: 0.6843 - accuracy: 0.7982\n",
      "Epoch 10/15\n",
      "45/45 [==============================] - 0s 694us/step - loss: 0.6744 - accuracy: 0.7975\n",
      "Epoch 11/15\n",
      "45/45 [==============================] - 0s 717us/step - loss: 0.6638 - accuracy: 0.7982\n",
      "Epoch 12/15\n",
      "45/45 [==============================] - 0s 694us/step - loss: 0.6105 - accuracy: 0.8170\n",
      "Epoch 13/15\n",
      "45/45 [==============================] - 0s 819us/step - loss: 0.5938 - accuracy: 0.8142\n",
      "Epoch 14/15\n",
      "45/45 [==============================] - 0s 969us/step - loss: 0.6057 - accuracy: 0.8156\n",
      "Epoch 15/15\n",
      "45/45 [==============================] - 0s 775us/step - loss: 0.5643 - accuracy: 0.8205\n",
      "\n",
      "Training model with stddev = 10\n",
      "Epoch 1/15\n",
      "45/45 [==============================] - 0s 741us/step - loss: 89.0243 - accuracy: 0.1378\n",
      "Epoch 2/15\n",
      "45/45 [==============================] - 0s 705us/step - loss: 69.1758 - accuracy: 0.1406\n",
      "Epoch 3/15\n",
      "45/45 [==============================] - 0s 736us/step - loss: 61.6643 - accuracy: 0.1385\n",
      "Epoch 4/15\n",
      "45/45 [==============================] - 0s 694us/step - loss: 46.2259 - accuracy: 0.1552\n",
      "Epoch 5/15\n",
      "45/45 [==============================] - 0s 698us/step - loss: 35.6281 - accuracy: 0.1343\n",
      "Epoch 6/15\n",
      "45/45 [==============================] - 0s 740us/step - loss: 23.9077 - accuracy: 0.1781\n",
      "Epoch 7/15\n",
      "45/45 [==============================] - 0s 774us/step - loss: 18.5937 - accuracy: 0.2338\n",
      "Epoch 8/15\n",
      "45/45 [==============================] - 0s 751us/step - loss: 17.2154 - accuracy: 0.2213\n",
      "Epoch 9/15\n",
      "45/45 [==============================] - 0s 717us/step - loss: 14.8488 - accuracy: 0.1872\n",
      "Epoch 10/15\n",
      "45/45 [==============================] - 0s 717us/step - loss: 12.0879 - accuracy: 0.1642\n",
      "Epoch 11/15\n",
      "45/45 [==============================] - 0s 717us/step - loss: 12.9471 - accuracy: 0.1712\n",
      "Epoch 12/15\n",
      "45/45 [==============================] - 0s 740us/step - loss: 11.9635 - accuracy: 0.1399\n",
      "Epoch 13/15\n",
      "45/45 [==============================] - 0s 807us/step - loss: 8.8171 - accuracy: 0.1406\n",
      "Epoch 14/15\n",
      "45/45 [==============================] - 0s 740us/step - loss: 7.5904 - accuracy: 0.1510\n",
      "Epoch 15/15\n",
      "45/45 [==============================] - 0s 717us/step - loss: 6.7794 - accuracy: 0.1747\n"
     ]
    }
   ],
   "source": [
    "# Import necessary libraries\n",
    "from tensorflow.keras import initializers\n",
    "from tensorflow.keras import optimizers\n",
    "\n",
    "# Define the dimensions \n",
    "input_dim = 64\n",
    "hidden_dim = 64\n",
    "output_dim = 10\n",
    "\n",
    "# Define the standard deviation for the initialization schemes\n",
    "stddev_values = [1e-3, 1, 10]\n",
    "\n",
    "# Loop over the standard deviations\n",
    "for stddev in stddev_values:\n",
    "    print(f\"\\nTraining model with stddev = {stddev}\")\n",
    "\n",
    "    # Define the initializer\n",
    "    normal_init = initializers.TruncatedNormal(stddev=stddev, seed=42)\n",
    "\n",
    "    # Define the model\n",
    "    model = Sequential()\n",
    "    model.add(Dense(hidden_dim, input_dim=input_dim, activation=\"tanh\", kernel_initializer=normal_init))\n",
    "    model.add(Dense(hidden_dim, activation=\"tanh\", kernel_initializer=normal_init))\n",
    "    model.add(Dense(output_dim, activation=\"softmax\", kernel_initializer=normal_init))\n",
    "\n",
    "    # Compile the model\n",
    "    model.compile(optimizer=optimizers.SGD(learning_rate=0.1), loss='categorical_crossentropy', metrics=['accuracy'])\n",
    "\n",
    "    # Train the model\n",
    "    history = model.fit(X_train, y_train, epochs=15, batch_size=32)\n",
    "    \n",
    "\n",
    "\n"
   ]
  }
 ],
 "metadata": {
  "file_extension": ".py",
  "kernelspec": {
   "display_name": "Python 3 (ipykernel)",
   "language": "python",
   "name": "python3"
  },
  "language_info": {
   "codemirror_mode": {
    "name": "ipython",
    "version": 3
   },
   "file_extension": ".py",
   "mimetype": "text/x-python",
   "name": "python",
   "nbconvert_exporter": "python",
   "pygments_lexer": "ipython3",
   "version": "3.9.15"
  },
  "mimetype": "text/x-python",
  "name": "python",
  "npconvert_exporter": "python",
  "pygments_lexer": "ipython3",
  "toc": {
   "base_numbering": 1,
   "nav_menu": {},
   "number_sections": true,
   "sideBar": true,
   "skip_h1_title": false,
   "title_cell": "Table of Contents",
   "title_sidebar": "Contents",
   "toc_cell": false,
   "toc_position": {},
   "toc_section_display": true,
   "toc_window_display": false
  },
  "version": 3
 },
 "nbformat": 4,
 "nbformat_minor": 4
}
